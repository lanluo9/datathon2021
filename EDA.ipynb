{
 "cells": [
  {
   "cell_type": "markdown",
   "metadata": {},
   "source": [
    "# prep data"
   ]
  },
  {
   "cell_type": "code",
   "execution_count": 3,
   "metadata": {},
   "outputs": [],
   "source": [
    "import pandas as pd\n",
    "import numpy as np\n",
    "import matplotlib.pyplot as plt\n",
    "import seaborn as sns\n",
    "import scipy.stats as stats"
   ]
  },
  {
   "cell_type": "code",
   "execution_count": 2,
   "metadata": {},
   "outputs": [
    {
     "name": "stdout",
     "output_type": "stream",
     "text": [
      "Collecting pyreadstat\n",
      "  Downloading pyreadstat-1.1.3-cp37-cp37m-win_amd64.whl (1.3 MB)\n",
      "Requirement already satisfied: pandas>0.24.0 in c:\\programdata\\anaconda3\\lib\\site-packages (from pyreadstat) (1.0.1)\n",
      "Requirement already satisfied: pytz>=2017.2 in c:\\programdata\\anaconda3\\lib\\site-packages (from pandas>0.24.0->pyreadstat) (2019.3)\n",
      "Requirement already satisfied: numpy>=1.13.3 in c:\\programdata\\anaconda3\\lib\\site-packages (from pandas>0.24.0->pyreadstat) (1.18.1)\n",
      "Requirement already satisfied: python-dateutil>=2.6.1 in c:\\programdata\\anaconda3\\lib\\site-packages (from pandas>0.24.0->pyreadstat) (2.8.1)\n",
      "Requirement already satisfied: six>=1.5 in c:\\programdata\\anaconda3\\lib\\site-packages (from python-dateutil>=2.6.1->pandas>0.24.0->pyreadstat) (1.14.0)\n",
      "Installing collected packages: pyreadstat\n",
      "Successfully installed pyreadstat-1.1.3\n"
     ]
    }
   ],
   "source": [
    "# !pip install pyreadstat"
   ]
  },
  {
   "cell_type": "code",
   "execution_count": 63,
   "metadata": {},
   "outputs": [
    {
     "data": {
      "text/plain": [
       "(   country  idnumber  level3  yrsurvey  se002  se003  se003a  se004  se004a  \\\n",
       " 0      4.0       1.0     1.0    2002.0    1.0    5.0    38.0    NaN     1.0   \n",
       " 1      4.0       2.0     1.0    2002.0    2.0   10.0    60.0    NaN     1.0   \n",
       " 2      4.0       3.0     1.0    2002.0    2.0   10.0    69.0    NaN     1.0   \n",
       " 3      4.0       4.0     1.0    2002.0    2.0    5.0    39.0    NaN     1.0   \n",
       " 4      4.0       5.0     1.0    2002.0    1.0    7.0    48.0    NaN     1.0   \n",
       " \n",
       "    se005  ...  ir010e  w_jp  w_hk  w_kr      w_cn  w_mo  w_ph  w_tw  w_th  \\\n",
       " 0    5.0  ...     NaN   NaN   NaN   NaN  0.621390   NaN   NaN   NaN   NaN   \n",
       " 1    4.0  ...     NaN   NaN   NaN   NaN  0.446785   NaN   NaN   NaN   NaN   \n",
       " 2    1.0  ...     NaN   NaN   NaN   NaN  0.583658   NaN   NaN   NaN   NaN   \n",
       " 3    8.0  ...     NaN   NaN   NaN   NaN  0.490000   NaN   NaN   NaN   NaN   \n",
       " 4    4.0  ...     NaN   NaN   NaN   NaN  0.396647   NaN   NaN   NaN   NaN   \n",
       " \n",
       "    w_all  \n",
       " 0   0.62  \n",
       " 1   0.45  \n",
       " 2   0.58  \n",
       " 3   0.49  \n",
       " 4   0.40  \n",
       " \n",
       " [5 rows x 217 columns],\n",
       "    country  idnumber  level3   q1   q2   q3   q4   q5   q6   q7  ...  irII13c  \\\n",
       " 0      1.0      11.0     1.0  3.0  1.0  2.0  3.0  2.0  2.0  2.0  ...      0.0   \n",
       " 1      1.0      12.0     1.0  4.0  4.0  3.0  1.0  1.0  1.0  3.0  ...      0.0   \n",
       " 2      1.0      23.0     1.0  4.0  4.0  4.0  4.0  4.0  4.0  3.0  ...      0.0   \n",
       " 3      1.0     100.0     1.0  2.0  3.0  4.0  4.0  3.0  3.0  2.0  ...      1.0   \n",
       " 4      1.0     107.0     1.0  4.0  4.0  2.0  3.0  3.0  2.0  1.0  ...      1.0   \n",
       " \n",
       "    ir13d  ir13e  ir13f  ir13g  ir13h  ir13i  ir13k  ir14  w_all  \n",
       " 0    NaN    1.0    1.0    9.0    1.0    1.0    1.0   3.0  0.872  \n",
       " 1    NaN    1.0    1.0    9.0    1.0    1.0    1.0   3.0  1.314  \n",
       " 2    NaN    1.0    1.0    9.0    1.0    1.0    1.0   3.0  0.872  \n",
       " 3    NaN    1.0    1.0    1.0    1.0    1.0    1.0   3.0  0.805  \n",
       " 4    NaN    1.0    1.0    1.0    1.0    1.0    1.0   3.0  0.805  \n",
       " \n",
       " [5 rows x 252 columns])"
      ]
     },
     "execution_count": 63,
     "metadata": {},
     "output_type": "execute_result"
    }
   ],
   "source": [
    "import pyreadstat\n",
    "wave1_file = 'D:\\RRR\\Project Athena\\Datathon2021\\data\\W1 Merged Data\\Wave.1_Data\\Merge\\Wave1_20170906.sav'\n",
    "wave2_file = 'D:\\RRR\\Project Athena\\Datathon2021\\data\\W2 Merged Data/2w-3rd_release_all\\merge\\Wave2_20170724.sav'\n",
    "\n",
    "df1, meta1 = pyreadstat.read_sav(wave1_file)\n",
    "df2, meta2 = pyreadstat.read_sav(wave2_file)\n",
    "meta_dict1 = meta1.column_names_to_labels\n",
    "meta_dict2 = meta2.column_names_to_labels\n",
    "\n",
    "df1.head(), df2.head()"
   ]
  },
  {
   "cell_type": "code",
   "execution_count": 64,
   "metadata": {},
   "outputs": [
    {
     "data": {
      "text/plain": [
       "{'country': 'Country Code',\n",
       " 'idnumber': 'Interview Numbers',\n",
       " 'level3': 'Urban-rural',\n",
       " 'q1': 'How would you rate the overall economic condition of our country today?',\n",
       " 'q2': 'How would you describe the change in the economic condition of our country over the last years?',\n",
       " 'q3': \"What do you think will be the state of our country's economic condition a few years from now?\",\n",
       " 'q4': 'As for your own family, how do you rate your economic situation today?',\n",
       " 'q5': 'How would you compare the current economic condition of your family with what it was a few years ago?',\n",
       " 'q6': 'What do you think the economic situation of your family will be a few years from now?',\n",
       " 'q7': 'Trust in Prime Minister or president',\n",
       " 'q8': 'Trust in the Courts',\n",
       " 'q9': 'Trust in the national government',\n",
       " 'q10': 'Trust in Political parties',\n",
       " 'q11': 'Trust in Parliament',\n",
       " 'q12': 'Trust in Civil service',\n",
       " 'q13': 'Trust in the military(or armed forces)',\n",
       " 'q14': 'Trust in the police',\n",
       " 'q15': 'Trust in local government',\n",
       " 'q16': 'Trust in newspaper',\n",
       " 'q17': 'Trust in television',\n",
       " 'q18': 'Trust in the election commission(Singapore: International TV)',\n",
       " 'q19': 'Trust in NGOs',\n",
       " 'q20': 'Are you a member of any organization or formal groups?',\n",
       " 'fgnum': 'Number of formal group',\n",
       " 'q20_1': 'First organization',\n",
       " 'q20_2': 'Second organization',\n",
       " 'q20_3': 'Third organization',\n",
       " 'q23': 'General speaking, would you say \"Most people can be trusted\" or \"that you must be very careful\"?',\n",
       " 'q24': 'How much trust do you have in your relatives?',\n",
       " 'q25': 'How much trust do you have in your neighbors?',\n",
       " 'q26': 'How much trust do you have in other people you interact with?',\n",
       " 'q27': 'On average, about how many people do you have contact with in a typical week day?',\n",
       " 'q28': \"How often are you asked to help influence important decisions in other people's favor?\",\n",
       " 'q29': 'And are there people you could ask to help influence important decisions in your favor?',\n",
       " 'q30': 'Do you agree or disagree with the following statement: By helping people in trouble today, someone else will help me when I am in trouble someday.',\n",
       " 'q31': 'Would you have a hard time conversing with your friends or co-workers about politics if you had differing opinions?',\n",
       " 'q32': 'Generally speaking, how safe is living in this city/town/village?',\n",
       " 'q33': 'Compared to the situation in this city/town/village a few years ago, do you feel more safe, less safe or the same as before?',\n",
       " 'q34': 'Have you been a victim of car, motorcycle or bicycle theft?',\n",
       " 'q35': 'Have you been a victim of pick-pocketing/robbery of personal property?',\n",
       " 'q36': 'Have you been a victim of break-in at your home?',\n",
       " 'q37': 'Have you been a victim of physical violence?',\n",
       " 'q38': 'Have you voted in the last election?',\n",
       " 'q39': 'Which parties (or candidates for president if it was presidential race) did you vote for?',\n",
       " 'q39a': 'If the respondent voted for the winning camp or loosing camp?',\n",
       " 'q40': 'Attend a campaign meeting or rally',\n",
       " 'q41': 'Try to persuade others to vote for a certain candidate or party',\n",
       " 'q42': 'Did you do anything else to help out or work for a party or candidate running in the election',\n",
       " 'q43': 'On the whole, how would you rate the freeness and fairness of the last national election?',\n",
       " 'q44': 'How easy is it to obtain: An identity document',\n",
       " 'q45': 'How easy is it to obtain: A place in public primary school for a child',\n",
       " 'q46': 'How easy is it to obtain: Medical treatment at a nearby clinic',\n",
       " 'q47': 'How easy is it to obtain: Help from the police when you need it',\n",
       " 'q48': 'How would you describe the present political situation in our country',\n",
       " 'q49': 'How interested would you say you are in politics',\n",
       " 'q50': 'How often do you follow news about politics and government',\n",
       " 'q51_1': 'Main source of information. Question 51.01 Television',\n",
       " 'q51_2': 'Question 51.02 Newspaper',\n",
       " 'q51_3': 'Question 51.03 Radio',\n",
       " 'q51_4': 'Question 51.04 Internet',\n",
       " 'q51_5': 'Question 51.05 Cell phone short message (SMS)',\n",
       " 'q51_6': 'Question 51.06 Personal contact',\n",
       " 'q51_7': 'Question 51.07 Other',\n",
       " 'q51_8': 'Magazine',\n",
       " 'q51a': 'From Q51 Which is most important',\n",
       " 'q52': 'When you get together with your family members or friends, how often do you discuss political matters?',\n",
       " 'q53': 'How much impact do you feel government politics have on your daily life?',\n",
       " 'q54': 'Among the political parties listed here, which party if any do you feel closest to?',\n",
       " 'q55': 'How close do you feel to the party(answer in Q54)?',\n",
       " 'q56': \"Even if parents' demands are unreasonable, children still should do what they ask\",\n",
       " 'q57': 'Being a student, one should not question the authority of their teacher',\n",
       " 'q58': 'When one has conflict with a neighbor, the best way to deal with it is to accommodate the other person',\n",
       " 'q59': 'A person should not insist on his own opinion if his co-workers disagree with him',\n",
       " 'q60': 'For the sake of the family, the individual should put his personal interests second',\n",
       " 'q61': \"Sometimes one has to follow one's own beliefs regardless of what other people think\",\n",
       " 'q62': \"When dealing with others, securing one's immediate interests should be more important than developing a long-term\",\n",
       " 'q63': 'Open quarrels (criticisms) among politicians are harmful to society',\n",
       " 'q64': 'The relationship between the government and the people should be like that between parents and children',\n",
       " 'q65': 'People should always support the decisions of their government even if they disagree with them',\n",
       " 'q66': 'How often do you use the internet?',\n",
       " 'q67': 'How closely do you follow major events in foreign countries/the world?',\n",
       " 'q68': 'Have you traveled abroad before? If you have, how often do you travel abroad?',\n",
       " 'q69': 'How often do you have personal contact with foreigners?',\n",
       " 'q70': 'We should give up gains in the present for the possibility of larger gains in the future',\n",
       " 'q71': 'Conflict among political groups is not a bad thing for our country',\n",
       " 'q72': 'If a government policy serves the interests of the majority of people, I should support it',\n",
       " 'q73': 'The best way to deal with complicated political issues should be to leave them to the future',\n",
       " 'q74': 'Political reform should be introduced little-by-little instead of all-at-once',\n",
       " 'q75': 'Cruel criminals should be punished immediately without regard to time-consuming legal processes',\n",
       " 'q76': 'For the sake of the national community/society, the individual should be prepared to sacrifice',\n",
       " 'q77': 'The most important thing for political leaders is to accomplish their goals even if they have to ignore the established procedure',\n",
       " 'q78': \"If possible, I don't want to get involved in political matters\",\n",
       " 'q79': 'Contacted government (administrative) official',\n",
       " 'q80': 'Contacted officials at higher level',\n",
       " 'q81': 'Contacted elected officials or legislative representatives at any level',\n",
       " 'q82': 'Contacted officials of political parties or other political organizations',\n",
       " 'q83': 'Contacted representative of non-government/civil society organizations',\n",
       " 'q84': 'Contacted traditional leaders/community leaders (IN: Mass media; TW/HK: Acquaintances in the government)',\n",
       " 'q85': 'Contacted other influential people',\n",
       " 'q86': 'Refused to pay taxes or fees to the government',\n",
       " 'q87': 'Got together with others to raise an issue or sign a petition',\n",
       " 'q88': 'Attended a demonstration or protest march',\n",
       " 'q89': 'Used force or violence for a political cause',\n",
       " 'q90': 'Thinking of whether you voted or not ever since you became eligible for voting, how would you describe yourself-have you voted',\n",
       " 'q91_1': 'To you, what does \"democracy\" mean?  What else?',\n",
       " 'q91_2': 'Second Response',\n",
       " 'q91_3': 'Third Response',\n",
       " 'q92': 'People often differ in their views on the characteristic that is essential to democracy. If you have to choose only one of the things',\n",
       " 'q93': 'On the whole, how satisfied or dissatisfied are you with the way democracy works in [country]?',\n",
       " 'q94': 'In your opinion how much of a democracy is [country]?',\n",
       " 'q95': 'Where would you place our country during the period of [the name of the most recent government under authoritarian rule]?',\n",
       " 'q96': 'Where would you place our country under the present government?',\n",
       " 'q97': 'To what extent would you want our country to be democratic now?',\n",
       " 'q98': 'Which would you think democracy is suitable for our country?',\n",
       " 'q99': 'How satisfied or dissatisfied are you with the [name of present] government?',\n",
       " 'q100': 'In your opinion, what are the most important questions facing the country that government should address?',\n",
       " 'q101': 'Second Response',\n",
       " 'q102': 'Third Response',\n",
       " 'q102a': 'How likely is it that the government will solve the most important problem you identified?',\n",
       " 'q103': \"People have the power to change a government they don't like\",\n",
       " 'q104': 'Our current courts always punish the guilty even if they are high-ranking officials',\n",
       " 'q105': 'Political parties or candidates in our country have equal access to the mass media during the election period',\n",
       " 'q106': 'Between elections, the people have no way of holding the government responsible for its actions',\n",
       " 'q107': 'When the government breaks the laws, there is nothing the legal system can do',\n",
       " 'q108': 'Everyone is treated equally by the government',\n",
       " 'q109': 'People have basic necessities like food, clothes, and shelter',\n",
       " 'q110': 'People are free to speak what they think without fear',\n",
       " 'q111': 'People can join any organization the like without fear',\n",
       " 'q112': 'How often do government officials withhold important information from the public view?',\n",
       " 'q113': 'How often do national government officials abide by the law? (HK: Hong Kong government)',\n",
       " 'q114': 'How often do your think our elections offer the voters a real choice between different parties/candidates?',\n",
       " 'q115': 'To what extent is the legislature capable of keeping the government in check?',\n",
       " 'q116': 'How well do you think the government responds to what people want?',\n",
       " 'q117': 'How widespread do you think corruption and bribe-taking are in your local/municipal government?',\n",
       " 'q118': 'How widespread do you think corruption and bribe-taking are in the national government?',\n",
       " 'q119': 'Have you or anyone you know personally witnessed an act of corruption or bribe-taking by a politician or government official in the past year?',\n",
       " 'q119_1': '119_1 Personally witnessed',\n",
       " 'q119_2': '119_2 Told about it by family member',\n",
       " 'q119_3': '119_3 Told about it by friend',\n",
       " 'q120': 'In your opinion, is the government working to crackdown corruption and root out bribes?',\n",
       " 'q121': 'Which of the following statements comes closest to your own opinion?',\n",
       " 'q122': 'Which of the following statements comes closer to your own view?',\n",
       " 'q123': 'If you had to choose between democracy and economic development, which would you say is more important?',\n",
       " 'q124': 'We should get rid of parliament and elections and have a strong leader decide things',\n",
       " 'q125': 'Only one political party is allowed to stand for election and hold office',\n",
       " 'q126': 'The army should come in to govern the country',\n",
       " 'q127': 'I think I have the ability to participate in politics',\n",
       " 'q128': \"Sometimes politics and government seems so complicated that a person like me can't really understand what is going on\",\n",
       " 'q129': 'Whatever its faults may be, our form of government is still the best for us',\n",
       " 'q130': 'You can generally trust the people who run our government to do what is right (HK: Hong Kong government)',\n",
       " 'q131': 'Generally speaking, we can trust the local government officials to do the right things',\n",
       " 'q132': 'Which of these two statements comes closer to your own view',\n",
       " 'q133': 'People with little or no education should have as much say in politics as highly-educated people',\n",
       " 'q134': 'Government leaders are like the head of a family; we should all follow their decisions',\n",
       " 'q135': 'The government should decide whether certain ideas should be allowed to be discussed in society',\n",
       " 'q136': 'Harmony of the community will be disrupted if people organize lots of groups',\n",
       " 'q137': 'When judges decide important cases, they should accept the view of the executive branch',\n",
       " 'q138': 'If the government is constantly checked by the legislature, it cannot possibly accomplish great things',\n",
       " 'q139': 'If we have political leaders who are morally upright, we can let them decide everything',\n",
       " 'q140': 'If people have too many different ways of thinking, society will be chaotic',\n",
       " 'q141': 'When the country is facing a difficult situation, it is ok for the government to disregard the law in order to deal with the situation',\n",
       " 'q142': 'The government should maintain ownership of major state-owned enterprises',\n",
       " 'q143': 'The local government should have more authority over local decisions than it does now',\n",
       " 'q144': 'Our country should defend our way of life instead of becoming more and more like other countries',\n",
       " 'q145': 'In order to preserve social justice, the government should prevent the gap between rich and poor from growing any larger',\n",
       " 'q146': 'Our country should become more self-sufficient and less reliant on trade with other countries',\n",
       " 'q147': 'Let us suppose that you had to choose between being a..... which of these do you feel most strongly attached to',\n",
       " 'q148': 'These people should have the equal right to do whatever they want to do as other citizens',\n",
       " 'q149': 'They should enjoy the same right as other citizens to vote in the election of the top leader',\n",
       " 'q150': 'Their basic well-being should be taken care of by the government to the same extent as other citizens',\n",
       " 'q151': 'A citizen who does not actively participate in the affairs of his local and national community is not performing his duties',\n",
       " 'q152': 'Citizens should always obey laws and regulations, even if they disagree with them',\n",
       " 'q153': 'Do you agree or disagree with the following statement: \"A citizen should always remain loyal only to his country, no matter how imperfect',\n",
       " 'q154': 'How proud are you to be a citizen of [Country]',\n",
       " 'q155': 'Given the chance, how willing would you be to go and live in another country?',\n",
       " 'q156': 'Relation: The European Community or European Union',\n",
       " 'q157': 'Relation: The United Nations or UN',\n",
       " 'q158': 'Relation: International Monetary Fund or IMF',\n",
       " 'q159': 'Relation: World Bank',\n",
       " 'q160': 'Impression: The European Community or European Union',\n",
       " 'q161': 'Impression: The United Nations or UN',\n",
       " 'q162': 'Impression: International Monetary Fund or IMF',\n",
       " 'q163': 'Impression: World Bank',\n",
       " 'q164': 'Impression: United States',\n",
       " 'q165': 'Impression: China',\n",
       " 'q166': 'Impression: Japan',\n",
       " 'se2': 'Gender',\n",
       " 'se3a': 'Age',\n",
       " 'se4': 'Marital Status',\n",
       " 'se5': 'Education',\n",
       " 'se5a': 'Years of formal education',\n",
       " 'se6': 'Religion',\n",
       " 'se7': 'Religiosity',\n",
       " 'se7a': 'Would you describe yourself as very religious?',\n",
       " 'se8a': 'How many people live in this household?',\n",
       " 'se8b': 'How many generations of family members live in this household?',\n",
       " 'se9': 'Monthly Household Income',\n",
       " 'se9a': 'Does the total income of your household allow you to satisfactorily cover your needs?',\n",
       " 'se10a': 'SE 10.1 Car/Jeep/Van',\n",
       " 'se10b': 'SE 10.2 Tractor',\n",
       " 'se10c': 'SE 10.3 Color or B/W Television',\n",
       " 'se10d': 'SE 10.4 Cable Television',\n",
       " 'se10e': 'SE 10.5 Scooter/Motorcycle/Moped',\n",
       " 'se10f': 'SE 10.6 Telephone',\n",
       " 'se10g': 'SE 10.7 Mobile Phone',\n",
       " 'se10h': 'SE 10.8 Electric Fan/Cooler',\n",
       " 'se10i': 'SE 10.9 Bicycle',\n",
       " 'se10j': 'SE 10.10 Radio/Transistor',\n",
       " 'se10k': 'SE 10.11 Pumping Set',\n",
       " 'se10l': 'SE 10.12 Fridge',\n",
       " 'se10m': 'SE 10.13 Camera',\n",
       " 'se10n': 'SE 10.14 Goats/Sheep',\n",
       " 'se10o': 'SE 10.15 Cows/Buffalo',\n",
       " 'se11': 'What language do you speak the most in the Home?',\n",
       " 'se12a': 'Main Occupation',\n",
       " 'se12b': 'Respondent is also the chief wage earner?',\n",
       " 'se13': 'Subjective Social Status',\n",
       " 'ir2': 'Is this the first questionnaire interviewers have completed?',\n",
       " 'ir2a': \"Interviewer's gender\",\n",
       " 'ir2b': \"Interviewer's age\",\n",
       " 'ir3': 'In the interview, other than the respondents, were others present?',\n",
       " 'ir3a_1': 'Spouse',\n",
       " 'ir3a_2': 'Children',\n",
       " 'ir3a_3': 'Parents or parents in law',\n",
       " 'ir3a_4': 'Neighbors/Passers by',\n",
       " 'ir3a_5': 'Party/Government Official',\n",
       " 'ir3a_6': 'Others',\n",
       " 'ir4': 'Has the respondent ever refused to be interviewed during the whole process?',\n",
       " 'ir5': 'Has the respondent ever felt impatient during the interview?',\n",
       " 'ir6': 'How cooperative was the respondent during the interview?',\n",
       " 'ir7': 'How sincere was the respondent when answering sensitive questions?',\n",
       " 'ir8': 'What proportion of the questions do you feel the respondent had difficulty answering?',\n",
       " 'ir9_1': 'Date of interview: month',\n",
       " 'ir9_2': 'Date of interview: day',\n",
       " 'ir9_3': 'Date of interview: year',\n",
       " 'ir10a': 'Was the interview conducted with the assistance of an interpreter?',\n",
       " 'ir12a': \"What is the condition of the road leading to the interviewee's residence?\",\n",
       " 'ir12b': 'Is tap water the main source of drinking water?',\n",
       " 'ir12c': 'Is electricity the main source of lighting?',\n",
       " 'ir12d': \"How far is it between the nearest public transportation stop and the respondent's house?\",\n",
       " 'ir13a': 'A.  Post-office',\n",
       " 'ir13b': 'B.  School',\n",
       " 'irII13c': 'C.  Police station',\n",
       " 'ir13d': 'D.  Sewerage system that most houses could access',\n",
       " 'ir13e': 'E.  Health clinic',\n",
       " 'ir13f': 'F.  Signal for cellular phone',\n",
       " 'ir13g': 'G.  Recreational facilities, e.g., a sports field',\n",
       " 'ir13h': 'H.  Any churches, mosques, temples or other public places of worship',\n",
       " 'ir13i': 'I.  Any town halls or community buildings that can be used for meetings',\n",
       " 'ir13k': 'K.  Market stalls (selling groceries and/or clothing)',\n",
       " 'ir14': 'Which of the following levels within the country the respondent live?',\n",
       " 'w_all': None}"
      ]
     },
     "execution_count": 64,
     "metadata": {},
     "output_type": "execute_result"
    }
   ],
   "source": [
    "meta_dict2"
   ]
  },
  {
   "cell_type": "code",
   "execution_count": 59,
   "metadata": {},
   "outputs": [
    {
     "name": "stdout",
     "output_type": "stream",
     "text": [
      "annual income: national quintiles\n",
      "['se009']\n",
      "annual income: national quintiles\n",
      "['se009']\n"
     ]
    }
   ],
   "source": [
    "# find str in dict, return all keys matching str\n",
    "def find_str_in_dict(str, dict):\n",
    "    key_seq = []\n",
    "    for key, value in dict.items():\n",
    "        # print(type(value))\n",
    "        if value is not None:\n",
    "            if str in value:\n",
    "                key_seq = np.append(key_seq, key)\n",
    "    \n",
    "    print(key_seq)\n",
    "    for key in key_seq:\n",
    "        print(dict[key])\n",
    "    \n",
    "    return None\n",
    "    \n",
    "str_lookup = 'income'\n",
    "find_str_in_dict(str_lookup, meta_dict1)\n",
    "find_str_in_dict(str_lookup, meta_dict2)"
   ]
  },
  {
   "cell_type": "code",
   "execution_count": 24,
   "metadata": {},
   "outputs": [
    {
     "data": {
      "text/plain": [
       "Index(['q111'], dtype='object')"
      ]
     },
     "execution_count": 24,
     "metadata": {},
     "output_type": "execute_result"
    }
   ],
   "source": [
    "# find string in df columns\n",
    "# df1.columns[df1.columns.str.contains('q007')]\n",
    "df2.columns[df2.columns.str.contains('q111')]"
   ]
  },
  {
   "cell_type": "markdown",
   "metadata": {},
   "source": [
    "# Multiple correspondence analysis (MCA)\n",
    "https://towardsdatascience.com/5-must-know-dimensionality-reduction-techniques-via-prince-e6ffb27e55d1"
   ]
  },
  {
   "cell_type": "markdown",
   "metadata": {},
   "source": [
    "## example code"
   ]
  },
  {
   "cell_type": "code",
   "execution_count": 65,
   "metadata": {},
   "outputs": [],
   "source": [
    "tips = sns.load_dataset('tips')\n",
    "tips.drop(['total_bill', 'tip'], axis =1, inplace = True)"
   ]
  },
  {
   "cell_type": "code",
   "execution_count": 110,
   "metadata": {},
   "outputs": [
    {
     "data": {
      "text/html": [
       "<div>\n",
       "<style scoped>\n",
       "    .dataframe tbody tr th:only-of-type {\n",
       "        vertical-align: middle;\n",
       "    }\n",
       "\n",
       "    .dataframe tbody tr th {\n",
       "        vertical-align: top;\n",
       "    }\n",
       "\n",
       "    .dataframe thead th {\n",
       "        text-align: right;\n",
       "    }\n",
       "</style>\n",
       "<table border=\"1\" class=\"dataframe\">\n",
       "  <thead>\n",
       "    <tr style=\"text-align: right;\">\n",
       "      <th></th>\n",
       "      <th>sex</th>\n",
       "      <th>smoker</th>\n",
       "      <th>day</th>\n",
       "      <th>time</th>\n",
       "      <th>size</th>\n",
       "    </tr>\n",
       "  </thead>\n",
       "  <tbody>\n",
       "    <tr>\n",
       "      <th>0</th>\n",
       "      <td>Female</td>\n",
       "      <td>No</td>\n",
       "      <td>Sun</td>\n",
       "      <td>Dinner</td>\n",
       "      <td>2</td>\n",
       "    </tr>\n",
       "    <tr>\n",
       "      <th>1</th>\n",
       "      <td>Male</td>\n",
       "      <td>No</td>\n",
       "      <td>Sun</td>\n",
       "      <td>Dinner</td>\n",
       "      <td>3</td>\n",
       "    </tr>\n",
       "    <tr>\n",
       "      <th>2</th>\n",
       "      <td>Male</td>\n",
       "      <td>No</td>\n",
       "      <td>Sun</td>\n",
       "      <td>Dinner</td>\n",
       "      <td>3</td>\n",
       "    </tr>\n",
       "    <tr>\n",
       "      <th>3</th>\n",
       "      <td>Male</td>\n",
       "      <td>No</td>\n",
       "      <td>Sun</td>\n",
       "      <td>Dinner</td>\n",
       "      <td>2</td>\n",
       "    </tr>\n",
       "    <tr>\n",
       "      <th>4</th>\n",
       "      <td>Female</td>\n",
       "      <td>No</td>\n",
       "      <td>Sun</td>\n",
       "      <td>Dinner</td>\n",
       "      <td>4</td>\n",
       "    </tr>\n",
       "    <tr>\n",
       "      <th>...</th>\n",
       "      <td>...</td>\n",
       "      <td>...</td>\n",
       "      <td>...</td>\n",
       "      <td>...</td>\n",
       "      <td>...</td>\n",
       "    </tr>\n",
       "    <tr>\n",
       "      <th>239</th>\n",
       "      <td>Male</td>\n",
       "      <td>No</td>\n",
       "      <td>Sat</td>\n",
       "      <td>Dinner</td>\n",
       "      <td>3</td>\n",
       "    </tr>\n",
       "    <tr>\n",
       "      <th>240</th>\n",
       "      <td>Female</td>\n",
       "      <td>Yes</td>\n",
       "      <td>Sat</td>\n",
       "      <td>Dinner</td>\n",
       "      <td>2</td>\n",
       "    </tr>\n",
       "    <tr>\n",
       "      <th>241</th>\n",
       "      <td>Male</td>\n",
       "      <td>Yes</td>\n",
       "      <td>Sat</td>\n",
       "      <td>Dinner</td>\n",
       "      <td>2</td>\n",
       "    </tr>\n",
       "    <tr>\n",
       "      <th>242</th>\n",
       "      <td>Male</td>\n",
       "      <td>No</td>\n",
       "      <td>Sat</td>\n",
       "      <td>Dinner</td>\n",
       "      <td>2</td>\n",
       "    </tr>\n",
       "    <tr>\n",
       "      <th>243</th>\n",
       "      <td>Female</td>\n",
       "      <td>No</td>\n",
       "      <td>Thur</td>\n",
       "      <td>Dinner</td>\n",
       "      <td>2</td>\n",
       "    </tr>\n",
       "  </tbody>\n",
       "</table>\n",
       "<p>244 rows × 5 columns</p>\n",
       "</div>"
      ],
      "text/plain": [
       "        sex smoker   day    time  size\n",
       "0    Female     No   Sun  Dinner     2\n",
       "1      Male     No   Sun  Dinner     3\n",
       "2      Male     No   Sun  Dinner     3\n",
       "3      Male     No   Sun  Dinner     2\n",
       "4    Female     No   Sun  Dinner     4\n",
       "..      ...    ...   ...     ...   ...\n",
       "239    Male     No   Sat  Dinner     3\n",
       "240  Female    Yes   Sat  Dinner     2\n",
       "241    Male    Yes   Sat  Dinner     2\n",
       "242    Male     No   Sat  Dinner     2\n",
       "243  Female     No  Thur  Dinner     2\n",
       "\n",
       "[244 rows x 5 columns]"
      ]
     },
     "execution_count": 110,
     "metadata": {},
     "output_type": "execute_result"
    }
   ],
   "source": [
    "tips"
   ]
  },
  {
   "cell_type": "code",
   "execution_count": 113,
   "metadata": {},
   "outputs": [
    {
     "data": {
      "text/html": [
       "<div>\n",
       "<style scoped>\n",
       "    .dataframe tbody tr th:only-of-type {\n",
       "        vertical-align: middle;\n",
       "    }\n",
       "\n",
       "    .dataframe tbody tr th {\n",
       "        vertical-align: top;\n",
       "    }\n",
       "\n",
       "    .dataframe thead th {\n",
       "        text-align: right;\n",
       "    }\n",
       "</style>\n",
       "<table border=\"1\" class=\"dataframe\">\n",
       "  <thead>\n",
       "    <tr style=\"text-align: right;\">\n",
       "      <th></th>\n",
       "      <th>size</th>\n",
       "      <th>size2</th>\n",
       "    </tr>\n",
       "  </thead>\n",
       "  <tbody>\n",
       "    <tr>\n",
       "      <th>0</th>\n",
       "      <td>2</td>\n",
       "      <td>4</td>\n",
       "    </tr>\n",
       "    <tr>\n",
       "      <th>1</th>\n",
       "      <td>3</td>\n",
       "      <td>9</td>\n",
       "    </tr>\n",
       "    <tr>\n",
       "      <th>2</th>\n",
       "      <td>3</td>\n",
       "      <td>9</td>\n",
       "    </tr>\n",
       "    <tr>\n",
       "      <th>3</th>\n",
       "      <td>2</td>\n",
       "      <td>4</td>\n",
       "    </tr>\n",
       "    <tr>\n",
       "      <th>4</th>\n",
       "      <td>4</td>\n",
       "      <td>16</td>\n",
       "    </tr>\n",
       "    <tr>\n",
       "      <th>...</th>\n",
       "      <td>...</td>\n",
       "      <td>...</td>\n",
       "    </tr>\n",
       "    <tr>\n",
       "      <th>239</th>\n",
       "      <td>3</td>\n",
       "      <td>9</td>\n",
       "    </tr>\n",
       "    <tr>\n",
       "      <th>240</th>\n",
       "      <td>2</td>\n",
       "      <td>4</td>\n",
       "    </tr>\n",
       "    <tr>\n",
       "      <th>241</th>\n",
       "      <td>2</td>\n",
       "      <td>4</td>\n",
       "    </tr>\n",
       "    <tr>\n",
       "      <th>242</th>\n",
       "      <td>2</td>\n",
       "      <td>4</td>\n",
       "    </tr>\n",
       "    <tr>\n",
       "      <th>243</th>\n",
       "      <td>2</td>\n",
       "      <td>4</td>\n",
       "    </tr>\n",
       "  </tbody>\n",
       "</table>\n",
       "<p>244 rows × 2 columns</p>\n",
       "</div>"
      ],
      "text/plain": [
       "     size  size2\n",
       "0       2      4\n",
       "1       3      9\n",
       "2       3      9\n",
       "3       2      4\n",
       "4       4     16\n",
       "..    ...    ...\n",
       "239     3      9\n",
       "240     2      4\n",
       "241     2      4\n",
       "242     2      4\n",
       "243     2      4\n",
       "\n",
       "[244 rows x 2 columns]"
      ]
     },
     "execution_count": 113,
     "metadata": {},
     "output_type": "execute_result"
    }
   ],
   "source": [
    "tips2 = tips[['size']].copy()\n",
    "tips2['size2'] = tips2['size']**2\n",
    "tips2"
   ]
  },
  {
   "cell_type": "code",
   "execution_count": 121,
   "metadata": {},
   "outputs": [
    {
     "data": {
      "text/plain": [
       "str"
      ]
     },
     "execution_count": 121,
     "metadata": {},
     "output_type": "execute_result"
    }
   ],
   "source": [
    "# cast float column to str in df\n",
    "tips2['size'] = tips2['size'].astype(str)\n",
    "tips2['size2'] = tips2['size2'].astype(str)\n",
    "type(tips2['size2'][0])"
   ]
  },
  {
   "cell_type": "code",
   "execution_count": 67,
   "metadata": {},
   "outputs": [
    {
     "name": "stdout",
     "output_type": "stream",
     "text": [
      "Collecting prince\n",
      "  Using cached prince-0.7.1-py3-none-any.whl (21 kB)\n",
      "Requirement already satisfied: numpy>=1.17.1 in c:\\programdata\\anaconda3\\lib\\site-packages (from prince) (1.18.1)\n",
      "Requirement already satisfied: matplotlib>=3.0.2 in c:\\programdata\\anaconda3\\lib\\site-packages (from prince) (3.1.3)\n",
      "Collecting pandas>=1.0.3\n",
      "  Using cached pandas-1.3.4-cp37-cp37m-win_amd64.whl (10.0 MB)\n",
      "Requirement already satisfied: scikit-learn>=0.22.1 in c:\\programdata\\anaconda3\\lib\\site-packages (from prince) (0.22.1)\n",
      "Requirement already satisfied: scipy>=1.3.0 in c:\\programdata\\anaconda3\\lib\\site-packages (from prince) (1.4.1)\n",
      "Requirement already satisfied: pyparsing!=2.0.4,!=2.1.2,!=2.1.6,>=2.0.1 in c:\\programdata\\anaconda3\\lib\\site-packages (from matplotlib>=3.0.2->prince) (2.4.6)\n",
      "Requirement already satisfied: cycler>=0.10 in c:\\programdata\\anaconda3\\lib\\site-packages (from matplotlib>=3.0.2->prince) (0.10.0)\n",
      "Requirement already satisfied: kiwisolver>=1.0.1 in c:\\programdata\\anaconda3\\lib\\site-packages (from matplotlib>=3.0.2->prince) (1.1.0)\n",
      "Requirement already satisfied: python-dateutil>=2.1 in c:\\programdata\\anaconda3\\lib\\site-packages (from matplotlib>=3.0.2->prince) (2.8.1)\n",
      "Requirement already satisfied: pytz>=2017.3 in c:\\programdata\\anaconda3\\lib\\site-packages (from pandas>=1.0.3->prince) (2019.3)\n",
      "Requirement already satisfied: joblib>=0.11 in c:\\programdata\\anaconda3\\lib\\site-packages (from scikit-learn>=0.22.1->prince) (0.14.1)\n",
      "Requirement already satisfied: six in c:\\programdata\\anaconda3\\lib\\site-packages (from cycler>=0.10->matplotlib>=3.0.2->prince) (1.14.0)\n",
      "Requirement already satisfied: setuptools in c:\\programdata\\anaconda3\\lib\\site-packages (from kiwisolver>=1.0.1->matplotlib>=3.0.2->prince) (45.2.0.post20200210)\n",
      "Installing collected packages: pandas, prince\n",
      "Successfully installed pandas-1.3.4 prince-0.7.1\n"
     ]
    },
    {
     "name": "stderr",
     "output_type": "stream",
     "text": [
      "ERROR: otter-grader 2.2.6 requires google-auth-oauthlib, which is not installed.\n",
      "ERROR: otter-grader 2.2.6 requires gspread, which is not installed.\n"
     ]
    }
   ],
   "source": [
    "# !pip install prince --user"
   ]
  },
  {
   "cell_type": "code",
   "execution_count": 68,
   "metadata": {},
   "outputs": [
    {
     "data": {
      "text/html": [
       "<div>\n",
       "<style scoped>\n",
       "    .dataframe tbody tr th:only-of-type {\n",
       "        vertical-align: middle;\n",
       "    }\n",
       "\n",
       "    .dataframe tbody tr th {\n",
       "        vertical-align: top;\n",
       "    }\n",
       "\n",
       "    .dataframe thead th {\n",
       "        text-align: right;\n",
       "    }\n",
       "</style>\n",
       "<table border=\"1\" class=\"dataframe\">\n",
       "  <thead>\n",
       "    <tr style=\"text-align: right;\">\n",
       "      <th></th>\n",
       "      <th>0</th>\n",
       "      <th>1</th>\n",
       "    </tr>\n",
       "  </thead>\n",
       "  <tbody>\n",
       "    <tr>\n",
       "      <th>0</th>\n",
       "      <td>-0.179709</td>\n",
       "      <td>-0.372317</td>\n",
       "    </tr>\n",
       "    <tr>\n",
       "      <th>1</th>\n",
       "      <td>-0.363840</td>\n",
       "      <td>-0.487036</td>\n",
       "    </tr>\n",
       "    <tr>\n",
       "      <th>2</th>\n",
       "      <td>-0.363840</td>\n",
       "      <td>-0.487036</td>\n",
       "    </tr>\n",
       "    <tr>\n",
       "      <th>3</th>\n",
       "      <td>-0.415941</td>\n",
       "      <td>-0.550888</td>\n",
       "    </tr>\n",
       "    <tr>\n",
       "      <th>4</th>\n",
       "      <td>-0.147590</td>\n",
       "      <td>-0.305220</td>\n",
       "    </tr>\n",
       "  </tbody>\n",
       "</table>\n",
       "</div>"
      ],
      "text/plain": [
       "          0         1\n",
       "0 -0.179709 -0.372317\n",
       "1 -0.363840 -0.487036\n",
       "2 -0.363840 -0.487036\n",
       "3 -0.415941 -0.550888\n",
       "4 -0.147590 -0.305220"
      ]
     },
     "execution_count": 68,
     "metadata": {},
     "output_type": "execute_result"
    }
   ],
   "source": [
    "from prince import MCA\n",
    "mca = MCA(n_components = 2, n_iter = 3, random_state = 101)\n",
    "mca.fit(tips)\n",
    "tips_mca = mca.transform(tips)\n",
    "tips_mca.head()"
   ]
  },
  {
   "cell_type": "code",
   "execution_count": 122,
   "metadata": {},
   "outputs": [
    {
     "data": {
      "text/html": [
       "<div>\n",
       "<style scoped>\n",
       "    .dataframe tbody tr th:only-of-type {\n",
       "        vertical-align: middle;\n",
       "    }\n",
       "\n",
       "    .dataframe tbody tr th {\n",
       "        vertical-align: top;\n",
       "    }\n",
       "\n",
       "    .dataframe thead th {\n",
       "        text-align: right;\n",
       "    }\n",
       "</style>\n",
       "<table border=\"1\" class=\"dataframe\">\n",
       "  <thead>\n",
       "    <tr style=\"text-align: right;\">\n",
       "      <th></th>\n",
       "      <th>0</th>\n",
       "      <th>1</th>\n",
       "    </tr>\n",
       "  </thead>\n",
       "  <tbody>\n",
       "    <tr>\n",
       "      <th>0</th>\n",
       "      <td>-0.129099</td>\n",
       "      <td>-0.576453</td>\n",
       "    </tr>\n",
       "    <tr>\n",
       "      <th>1</th>\n",
       "      <td>-0.129099</td>\n",
       "      <td>0.151963</td>\n",
       "    </tr>\n",
       "    <tr>\n",
       "      <th>2</th>\n",
       "      <td>-0.129099</td>\n",
       "      <td>0.151963</td>\n",
       "    </tr>\n",
       "    <tr>\n",
       "      <th>3</th>\n",
       "      <td>-0.129099</td>\n",
       "      <td>-0.576453</td>\n",
       "    </tr>\n",
       "    <tr>\n",
       "      <th>4</th>\n",
       "      <td>-0.129099</td>\n",
       "      <td>1.746597</td>\n",
       "    </tr>\n",
       "  </tbody>\n",
       "</table>\n",
       "</div>"
      ],
      "text/plain": [
       "          0         1\n",
       "0 -0.129099 -0.576453\n",
       "1 -0.129099  0.151963\n",
       "2 -0.129099  0.151963\n",
       "3 -0.129099 -0.576453\n",
       "4 -0.129099  1.746597"
      ]
     },
     "execution_count": 122,
     "metadata": {},
     "output_type": "execute_result"
    }
   ],
   "source": [
    "from prince import MCA\n",
    "mca = MCA(n_components = 2, n_iter = 3, random_state = 101)\n",
    "mca.fit(tips2)\n",
    "tips_mca = mca.transform(tips2)\n",
    "tips_mca.head()"
   ]
  },
  {
   "cell_type": "code",
   "execution_count": 69,
   "metadata": {},
   "outputs": [
    {
     "data": {
      "text/plain": [
       "<matplotlib.axes._subplots.AxesSubplot at 0x2a44a681248>"
      ]
     },
     "execution_count": 69,
     "metadata": {},
     "output_type": "execute_result"
    },
    {
     "data": {
      "image/png": "[encoded data removed]",
      "text/plain": [
       "<Figure size 432x432 with 1 Axes>"
      ]
     },
     "metadata": {
      "needs_background": "light"
     },
     "output_type": "display_data"
    }
   ],
   "source": [
    "mca.plot_coordinates(X = tips)\n"
   ]
  },
  {
   "cell_type": "code",
   "execution_count": 123,
   "metadata": {},
   "outputs": [
    {
     "data": {
      "text/plain": [
       "<matplotlib.axes._subplots.AxesSubplot at 0x2a455b0db48>"
      ]
     },
     "execution_count": 123,
     "metadata": {},
     "output_type": "execute_result"
    },
    {
     "data": {
      "image/png": "[encoded data removed]",
      "text/plain": [
       "<Figure size 432x432 with 1 Axes>"
      ]
     },
     "metadata": {
      "needs_background": "light"
     },
     "output_type": "display_data"
    }
   ],
   "source": [
    "mca.plot_coordinates(X = tips2)\n"
   ]
  },
  {
   "cell_type": "code",
   "execution_count": 124,
   "metadata": {},
   "outputs": [
    {
     "data": {
      "text/plain": [
       "[0.20000000000000018, 0.2]"
      ]
     },
     "execution_count": 124,
     "metadata": {},
     "output_type": "execute_result"
    }
   ],
   "source": [
    "mca.explained_inertia_\n"
   ]
  },
  {
   "cell_type": "markdown",
   "metadata": {},
   "source": [
    "## try wave 2"
   ]
  },
  {
   "cell_type": "code",
   "execution_count": 128,
   "metadata": {},
   "outputs": [
    {
     "name": "stdout",
     "output_type": "stream",
     "text": [
      "59394\n",
      "['5.0' '1.0' '2.0' '3.0' '4.0' '98.0' '99.0' 'nan' '97.0'] ['3.0' '2.0' '4.0' '1.0' '8.0' '5.0' '9.0' '7.0' 'nan'] ['2.0' '1.0' '3.0' '8.0' '4.0' '9.0' '7.0' 'nan']\n",
      "59394\n",
      "['5.0' '1.0' '2.0' '3.0' '4.0' '98.0' '99.0' 'nan' '97.0'] ['3.0' '2.0' '4.0' '1.0' '8.0' '5.0' '9.0' '7.0' 'nan'] ['2.0' '1.0' '3.0' '8.0' '4.0' '9.0' '7.0' 'nan']\n"
     ]
    }
   ],
   "source": [
    "# income vs legitimacy\n",
    "col_name = ['se9', 'q123', 'q111']\n",
    "df_temp = df2[col_name].copy()\n",
    "print(df_temp.size)\n",
    "print(df2.se9.unique(), df2.q123.unique(), df2.q111.unique())\n",
    "\n",
    "# drop nan\n",
    "df_temp = df_temp.dropna()\n",
    "print(df_temp.size)\n",
    "\n",
    "def df_column_datatype_to_str(df, col_name):\n",
    "    df[col_name] = df[col_name].astype(str)\n",
    "    return df\n",
    "\n",
    "df_temp = df_column_datatype_to_str(df_temp, col_name)\n",
    "print(df_temp.se9.unique(), df_temp.q123.unique(), df_temp.q111.unique())"
   ]
  },
  {
   "cell_type": "code",
   "execution_count": 99,
   "metadata": {},
   "outputs": [
    {
     "data": {
      "text/html": [
       "<div>\n",
       "<style scoped>\n",
       "    .dataframe tbody tr th:only-of-type {\n",
       "        vertical-align: middle;\n",
       "    }\n",
       "\n",
       "    .dataframe tbody tr th {\n",
       "        vertical-align: top;\n",
       "    }\n",
       "\n",
       "    .dataframe thead th {\n",
       "        text-align: right;\n",
       "    }\n",
       "</style>\n",
       "<table border=\"1\" class=\"dataframe\">\n",
       "  <thead>\n",
       "    <tr style=\"text-align: right;\">\n",
       "      <th></th>\n",
       "      <th>0</th>\n",
       "      <th>1</th>\n",
       "    </tr>\n",
       "  </thead>\n",
       "  <tbody>\n",
       "    <tr>\n",
       "      <th>19259</th>\n",
       "      <td>-0.579332</td>\n",
       "      <td>0.705867</td>\n",
       "    </tr>\n",
       "    <tr>\n",
       "      <th>14032</th>\n",
       "      <td>-0.963988</td>\n",
       "      <td>0.087037</td>\n",
       "    </tr>\n",
       "    <tr>\n",
       "      <th>16116</th>\n",
       "      <td>-0.963988</td>\n",
       "      <td>0.087037</td>\n",
       "    </tr>\n",
       "    <tr>\n",
       "      <th>2728</th>\n",
       "      <td>-0.336627</td>\n",
       "      <td>-0.123570</td>\n",
       "    </tr>\n",
       "    <tr>\n",
       "      <th>11623</th>\n",
       "      <td>-0.074507</td>\n",
       "      <td>-0.182797</td>\n",
       "    </tr>\n",
       "  </tbody>\n",
       "</table>\n",
       "</div>"
      ],
      "text/plain": [
       "              0         1\n",
       "19259 -0.579332  0.705867\n",
       "14032 -0.963988  0.087037\n",
       "16116 -0.963988  0.087037\n",
       "2728  -0.336627 -0.123570\n",
       "11623 -0.074507 -0.182797"
      ]
     },
     "execution_count": 99,
     "metadata": {},
     "output_type": "execute_result"
    }
   ],
   "source": [
    "mca = MCA(n_components = 2, n_iter = 3, random_state = 101)\n",
    "mca.fit(df_temp)\n",
    "t_mca = mca.transform(df_temp)\n",
    "t_mca.sample(5)"
   ]
  },
  {
   "cell_type": "code",
   "execution_count": 100,
   "metadata": {},
   "outputs": [
    {
     "ename": "ZeroDivisionError",
     "evalue": "float division by zero",
     "output_type": "error",
     "traceback": [
      "\u001b[1;31m---------------------------------------------------------------------------\u001b[0m",
      "\u001b[1;31mZeroDivisionError\u001b[0m                         Traceback (most recent call last)",
      "\u001b[1;32m<ipython-input-100-b1cccabf820d>\u001b[0m in \u001b[0;36m<module>\u001b[1;34m\u001b[0m\n\u001b[1;32m----> 1\u001b[1;33m \u001b[0mmca\u001b[0m\u001b[1;33m.\u001b[0m\u001b[0mplot_coordinates\u001b[0m\u001b[1;33m(\u001b[0m\u001b[0mX\u001b[0m \u001b[1;33m=\u001b[0m \u001b[0mdf_temp\u001b[0m\u001b[1;33m)\u001b[0m\u001b[1;33m\u001b[0m\u001b[1;33m\u001b[0m\u001b[0m\n\u001b[0m",
      "\u001b[1;32m~\\AppData\\Roaming\\Python\\Python37\\site-packages\\prince\\mca.py\u001b[0m in \u001b[0;36mplot_coordinates\u001b[1;34m(self, X, ax, figsize, x_component, y_component, show_row_points, row_points_size, row_points_alpha, show_row_labels, show_column_points, column_points_size, show_column_labels, legend_n_cols)\u001b[0m\n\u001b[0;32m    125\u001b[0m         \u001b[1;31m# Text\u001b[0m\u001b[1;33m\u001b[0m\u001b[1;33m\u001b[0m\u001b[1;33m\u001b[0m\u001b[0m\n\u001b[0;32m    126\u001b[0m         \u001b[0max\u001b[0m\u001b[1;33m.\u001b[0m\u001b[0mset_title\u001b[0m\u001b[1;33m(\u001b[0m\u001b[1;34m'Row and column principal coordinates'\u001b[0m\u001b[1;33m)\u001b[0m\u001b[1;33m\u001b[0m\u001b[1;33m\u001b[0m\u001b[0m\n\u001b[1;32m--> 127\u001b[1;33m         \u001b[0mei\u001b[0m \u001b[1;33m=\u001b[0m \u001b[0mself\u001b[0m\u001b[1;33m.\u001b[0m\u001b[0mexplained_inertia_\u001b[0m\u001b[1;33m\u001b[0m\u001b[1;33m\u001b[0m\u001b[0m\n\u001b[0m\u001b[0;32m    128\u001b[0m         \u001b[0max\u001b[0m\u001b[1;33m.\u001b[0m\u001b[0mset_xlabel\u001b[0m\u001b[1;33m(\u001b[0m\u001b[1;34m'Component {} ({:.2f}% inertia)'\u001b[0m\u001b[1;33m.\u001b[0m\u001b[0mformat\u001b[0m\u001b[1;33m(\u001b[0m\u001b[0mx_component\u001b[0m\u001b[1;33m,\u001b[0m \u001b[1;36m100\u001b[0m \u001b[1;33m*\u001b[0m \u001b[0mei\u001b[0m\u001b[1;33m[\u001b[0m\u001b[0mx_component\u001b[0m\u001b[1;33m]\u001b[0m\u001b[1;33m)\u001b[0m\u001b[1;33m)\u001b[0m\u001b[1;33m\u001b[0m\u001b[1;33m\u001b[0m\u001b[0m\n\u001b[0;32m    129\u001b[0m         \u001b[0max\u001b[0m\u001b[1;33m.\u001b[0m\u001b[0mset_ylabel\u001b[0m\u001b[1;33m(\u001b[0m\u001b[1;34m'Component {} ({:.2f}% inertia)'\u001b[0m\u001b[1;33m.\u001b[0m\u001b[0mformat\u001b[0m\u001b[1;33m(\u001b[0m\u001b[0my_component\u001b[0m\u001b[1;33m,\u001b[0m \u001b[1;36m100\u001b[0m \u001b[1;33m*\u001b[0m \u001b[0mei\u001b[0m\u001b[1;33m[\u001b[0m\u001b[0my_component\u001b[0m\u001b[1;33m]\u001b[0m\u001b[1;33m)\u001b[0m\u001b[1;33m)\u001b[0m\u001b[1;33m\u001b[0m\u001b[1;33m\u001b[0m\u001b[0m\n",
      "\u001b[1;32m~\\AppData\\Roaming\\Python\\Python37\\site-packages\\prince\\ca.py\u001b[0m in \u001b[0;36mexplained_inertia_\u001b[1;34m(self)\u001b[0m\n\u001b[0;32m    108\u001b[0m         \u001b[1;34m\"\"\"The percentage of explained inertia per principal component.\"\"\"\u001b[0m\u001b[1;33m\u001b[0m\u001b[1;33m\u001b[0m\u001b[0m\n\u001b[0;32m    109\u001b[0m         \u001b[0mself\u001b[0m\u001b[1;33m.\u001b[0m\u001b[0m_check_is_fitted\u001b[0m\u001b[1;33m(\u001b[0m\u001b[1;33m)\u001b[0m\u001b[1;33m\u001b[0m\u001b[1;33m\u001b[0m\u001b[0m\n\u001b[1;32m--> 110\u001b[1;33m         \u001b[1;32mreturn\u001b[0m \u001b[1;33m[\u001b[0m\u001b[0meig\u001b[0m \u001b[1;33m/\u001b[0m \u001b[0mself\u001b[0m\u001b[1;33m.\u001b[0m\u001b[0mtotal_inertia_\u001b[0m \u001b[1;32mfor\u001b[0m \u001b[0meig\u001b[0m \u001b[1;32min\u001b[0m \u001b[0mself\u001b[0m\u001b[1;33m.\u001b[0m\u001b[0meigenvalues_\u001b[0m\u001b[1;33m]\u001b[0m\u001b[1;33m\u001b[0m\u001b[1;33m\u001b[0m\u001b[0m\n\u001b[0m\u001b[0;32m    111\u001b[0m \u001b[1;33m\u001b[0m\u001b[0m\n\u001b[0;32m    112\u001b[0m     \u001b[1;32mdef\u001b[0m \u001b[0mrow_coordinates\u001b[0m\u001b[1;33m(\u001b[0m\u001b[0mself\u001b[0m\u001b[1;33m,\u001b[0m \u001b[0mX\u001b[0m\u001b[1;33m)\u001b[0m\u001b[1;33m:\u001b[0m\u001b[1;33m\u001b[0m\u001b[1;33m\u001b[0m\u001b[0m\n",
      "\u001b[1;32m~\\AppData\\Roaming\\Python\\Python37\\site-packages\\prince\\ca.py\u001b[0m in \u001b[0;36m<listcomp>\u001b[1;34m(.0)\u001b[0m\n\u001b[0;32m    108\u001b[0m         \u001b[1;34m\"\"\"The percentage of explained inertia per principal component.\"\"\"\u001b[0m\u001b[1;33m\u001b[0m\u001b[1;33m\u001b[0m\u001b[0m\n\u001b[0;32m    109\u001b[0m         \u001b[0mself\u001b[0m\u001b[1;33m.\u001b[0m\u001b[0m_check_is_fitted\u001b[0m\u001b[1;33m(\u001b[0m\u001b[1;33m)\u001b[0m\u001b[1;33m\u001b[0m\u001b[1;33m\u001b[0m\u001b[0m\n\u001b[1;32m--> 110\u001b[1;33m         \u001b[1;32mreturn\u001b[0m \u001b[1;33m[\u001b[0m\u001b[0meig\u001b[0m \u001b[1;33m/\u001b[0m \u001b[0mself\u001b[0m\u001b[1;33m.\u001b[0m\u001b[0mtotal_inertia_\u001b[0m \u001b[1;32mfor\u001b[0m \u001b[0meig\u001b[0m \u001b[1;32min\u001b[0m \u001b[0mself\u001b[0m\u001b[1;33m.\u001b[0m\u001b[0meigenvalues_\u001b[0m\u001b[1;33m]\u001b[0m\u001b[1;33m\u001b[0m\u001b[1;33m\u001b[0m\u001b[0m\n\u001b[0m\u001b[0;32m    111\u001b[0m \u001b[1;33m\u001b[0m\u001b[0m\n\u001b[0;32m    112\u001b[0m     \u001b[1;32mdef\u001b[0m \u001b[0mrow_coordinates\u001b[0m\u001b[1;33m(\u001b[0m\u001b[0mself\u001b[0m\u001b[1;33m,\u001b[0m \u001b[0mX\u001b[0m\u001b[1;33m)\u001b[0m\u001b[1;33m:\u001b[0m\u001b[1;33m\u001b[0m\u001b[1;33m\u001b[0m\u001b[0m\n",
      "\u001b[1;31mZeroDivisionError\u001b[0m: float division by zero"
     ]
    },
    {
     "data": {
      "image/png": "[encoded data removed]",
      "text/plain": [
       "<Figure size 432x432 with 1 Axes>"
      ]
     },
     "metadata": {
      "needs_background": "light"
     },
     "output_type": "display_data"
    }
   ],
   "source": [
    "mca.plot_coordinates(X = df_temp)"
   ]
  },
  {
   "cell_type": "code",
   "execution_count": 109,
   "metadata": {},
   "outputs": [
    {
     "name": "stdout",
     "output_type": "stream",
     "text": [
      "236 252\n"
     ]
    },
    {
     "data": {
      "text/plain": [
       "array(['country', 'idnumber', 'q1', 'q10', 'q119', 'q12', 'q13', 'q15',\n",
       "       'q2', 'q25', 'q3', 'q4', 'q5', 'q8', 'q9', 'w_all'], dtype=object)"
      ]
     },
     "execution_count": 109,
     "metadata": {},
     "output_type": "execute_result"
    }
   ],
   "source": [
    "# find column in df without nan\n",
    "print(len(df2.columns[df2.isna().any()]), len(df2.columns))\n",
    "\n",
    "# difference between 2 arrays\n",
    "np.setdiff1d(df2.columns, df2.columns[df2.isna().any()])"
   ]
  }
 ],
 "metadata": {
  "interpreter": {
   "hash": "7a7bbfd408a148f1f91f103c192cbf3c0d6f52b03699f509d141ee11feeaa78b"
  },
  "kernelspec": {
   "display_name": "Python 3.8.5 64-bit ('base': conda)",
   "language": "python",
   "name": "python3"
  },
  "language_info": {
   "codemirror_mode": {
    "name": "ipython",
    "version": 3
   },
   "file_extension": ".py",
   "mimetype": "text/x-python",
   "name": "python",
   "nbconvert_exporter": "python",
   "pygments_lexer": "ipython3",
   "version": "3.7.6"
  },
  "orig_nbformat": 4
 },
 "nbformat": 4,
 "nbformat_minor": 2
}
